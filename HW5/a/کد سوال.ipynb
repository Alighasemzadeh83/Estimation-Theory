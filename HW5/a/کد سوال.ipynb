{
 "cells": [
  {
   "cell_type": "code",
   "execution_count": 7,
   "id": "c5d024db",
   "metadata": {},
   "outputs": [
    {
     "name": "stdout",
     "output_type": "stream",
     "text": [
      "True P(X > 4): 3.167124e-05\n",
      "Monte Carlo Estimate: 3.200000e-05, Variance: 3.199898e-11\n",
      "Importance Sampling Estimate (μ=4): 3.260538e-05, Variance: 4.732811e-13\n",
      "Optimal μ ≈ 4.06 (minimizes variance)\n"
     ]
    }
   ],
   "source": [
    "import numpy as np\n",
    "from scipy.stats import norm\n",
    "\n",
    "# True P(X > 4) for X ~ N(0, 1)\n",
    "true_prob = 1 - norm.cdf(4)\n",
    "print(f\"True P(X > 4): {true_prob:.6e}\")\n",
    "\n",
    "# --- Simple Monte Carlo (N=1e6) ---\n",
    "N_mc = 10**6\n",
    "X = np.random.randn(N_mc)\n",
    "P_mc = np.mean(X > 4)\n",
    "var_mc = P_mc * (1 - P_mc) / N_mc\n",
    "print(f\"Monte Carlo Estimate: {P_mc:.6e}, Variance: {var_mc:.6e}\")\n",
    "\n",
    "# --- Importance Sampling (N=1e4, μ=4) ---\n",
    "N_is = 10**4\n",
    "mu = 4\n",
    "Y = np.random.normal(mu, 1, N_is)\n",
    "\n",
    "# Indicator and likelihood ratio\n",
    "indicator = (Y > 4).astype(float)\n",
    "likelihood_ratio = np.exp(-(Y**2 - (Y - mu)**2)/2)  # ϕ(Y)/ϕ(Y;μ,1)\n",
    "\n",
    "# Importance sampling estimator\n",
    "P_is = np.mean(indicator * likelihood_ratio)\n",
    "var_is = np.var(indicator * likelihood_ratio) / N_is\n",
    "\n",
    "print(f\"Importance Sampling Estimate (μ=4): {P_is:.6e}, Variance: {var_is:.6e}\")\n",
    "\n",
    "# --- Optimal μ (Approximate) ---\n",
    "# Theoretical optimal μ ≈ 4 for rare events (here, P(X>4) is very small)\n",
    "# We empirically test μ in [3, 5] to find minimal variance\n",
    "\n",
    "\n",
    "mu_trials = np.linspace(2, 6, 1000)\n",
    "variances = []\n",
    "for mu in mu_trials:\n",
    "    Y = np.random.normal(mu, 1, N_is)\n",
    "    indicator = (Y > 4).astype(float)\n",
    "    likelihood_ratio = np.exp(-(Y**2 - (Y - mu)**2)/2)\n",
    "    variances.append(np.var(indicator * likelihood_ratio) / N_is)\n",
    "\n",
    "optimal_mu = mu_trials[np.argmin(variances)]\n",
    "print(f\"Optimal μ ≈ {optimal_mu:.2f} (minimizes variance)\")\n",
    "    \n"
   ]
  },
  {
   "cell_type": "code",
   "execution_count": null,
   "id": "6a4e26a9",
   "metadata": {},
   "outputs": [],
   "source": []
  }
 ],
 "metadata": {
  "kernelspec": {
   "display_name": "base",
   "language": "python",
   "name": "python3"
  },
  "language_info": {
   "codemirror_mode": {
    "name": "ipython",
    "version": 3
   },
   "file_extension": ".py",
   "mimetype": "text/x-python",
   "name": "python",
   "nbconvert_exporter": "python",
   "pygments_lexer": "ipython3",
   "version": "3.12.3"
  }
 },
 "nbformat": 4,
 "nbformat_minor": 5
}
